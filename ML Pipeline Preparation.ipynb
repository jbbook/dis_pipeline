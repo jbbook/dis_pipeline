{
 "cells": [
  {
   "cell_type": "markdown",
   "metadata": {},
   "source": [
    "# ML Pipeline Preparation\n",
    "Follow the instructions below to help you create your ML pipeline.\n",
    "### 1. Import libraries and load data from database.\n",
    "- Import Python libraries\n",
    "- Load dataset from database with [`read_sql_table`](https://pandas.pydata.org/pandas-docs/stable/generated/pandas.read_sql_table.html)\n",
    "- Define feature and target variables X and Y"
   ]
  },
  {
   "cell_type": "code",
   "execution_count": 1,
   "metadata": {},
   "outputs": [
    {
     "name": "stderr",
     "output_type": "stream",
     "text": [
      "[nltk_data] Downloading package punkt to /home/jens/nltk_data...\n",
      "[nltk_data]   Package punkt is already up-to-date!\n",
      "[nltk_data] Downloading package wordnet to /home/jens/nltk_data...\n",
      "[nltk_data]   Package wordnet is already up-to-date!\n",
      "[nltk_data] Downloading package averaged_perceptron_tagger to\n",
      "[nltk_data]     /home/jens/nltk_data...\n",
      "[nltk_data]   Package averaged_perceptron_tagger is already up-to-\n",
      "[nltk_data]       date!\n",
      "[nltk_data] Downloading package stopwords to /home/jens/nltk_data...\n",
      "[nltk_data]   Package stopwords is already up-to-date!\n"
     ]
    }
   ],
   "source": [
    "# import libraries\n",
    "from sqlalchemy import create_engine\n",
    "\n",
    "import re\n",
    "import numpy as np\n",
    "import pandas as pd\n",
    "\n",
    "import nltk\n",
    "nltk.download(['punkt', 'wordnet', 'averaged_perceptron_tagger', 'stopwords'])\n",
    "\n",
    "from nltk.tokenize import word_tokenize\n",
    "from nltk.stem import WordNetLemmatizer\n",
    "from nltk.corpus import stopwords\n",
    "\n",
    "from sklearn.metrics import confusion_matrix, classification_report, roc_auc_score\n",
    "from sklearn.model_selection import GridSearchCV\n",
    "from sklearn.ensemble import RandomForestClassifier\n",
    "from sklearn.model_selection import train_test_split\n",
    "from sklearn.pipeline import Pipeline, FeatureUnion\n",
    "\n",
    "\n",
    "from sklearn.base import BaseEstimator, TransformerMixin\n",
    "from sklearn.feature_extraction.text import CountVectorizer, TfidfTransformer\n",
    "from sklearn.svm import SVC\n",
    "\n",
    "from sklearn.multioutput import MultiOutputClassifier"
   ]
  },
  {
   "cell_type": "code",
   "execution_count": 2,
   "metadata": {},
   "outputs": [],
   "source": [
    "# load data from database\n",
    "engine = create_engine('sqlite:///disaster_response_database.db')\n",
    "df = pd.read_sql('messages', engine)\n",
    "df.head()\n",
    "X = df['message']\n",
    "Y = df.drop(labels=['genre', 'id', 'message', 'original'], axis=1)"
   ]
  },
  {
   "cell_type": "markdown",
   "metadata": {},
   "source": [
    "### 2. Write a tokenization function to process your text data"
   ]
  },
  {
   "cell_type": "code",
   "execution_count": 3,
   "metadata": {
    "scrolled": false
   },
   "outputs": [
    {
     "name": "stdout",
     "output_type": "stream",
     "text": [
      "['weather', 'update', 'cold', 'front', 'cuba', 'could', 'pas', 'haiti']\n",
      "Weather update - a cold front from Cuba that could pass over Haiti\n",
      "['hurricane']\n",
      "Is the Hurricane over or is it not over\n",
      "['looking', 'someone', 'name']\n",
      "Looking for someone but no name\n",
      "['un', 'report', 'leogane', '80', '90', 'destroyed', 'hospital', 'st', 'croix', 'functioning', 'needs', 'supply', 'desperately']\n",
      "UN reports Leogane 80-90 destroyed. Only Hospital St. Croix functioning. Needs supplies desperately.\n",
      "['say', 'west', 'side', 'haiti', 'rest', 'country', 'today', 'tonight']\n",
      "says: west side of Haiti, rest of the country today and tonight\n",
      "['information', 'national', 'palace']\n",
      "Information about the National Palace-\n",
      "['storm', 'sacred', 'heart', 'jesus']\n",
      "Storm at sacred heart of jesus\n",
      "['please', 'need', 'tent', 'water', 'silo', 'thank']\n",
      "Please, we need tents and water. We are in Silo, Thank you!\n",
      "['would', 'like', 'receive', 'message', 'thank']\n",
      "I would like to receive the messages, thank you\n",
      "['croix', 'de', 'bouquets', 'health', 'issue', 'worker', 'santo', '15', 'area', 'croix', 'de', 'bouquets']\n",
      "I am in Croix-des-Bouquets. We have health issues. They ( workers ) are in Santo 15. ( an area in Croix-des-Bouquets )\n"
     ]
    }
   ],
   "source": [
    "url_regex = 'http[s]?://(?:[a-zA-Z]|[0-9]|[$-_@.&+]|[!*\\(\\),]|(?:%[0-9a-fA-F][0-9a-fA-F]))+'\n",
    "\n",
    "def tokenize(text):\n",
    "    detected_urls = re.findall(url_regex, text)\n",
    "    for url in detected_urls:\n",
    "        text = text.replace(url, 'urlplaceholder')\n",
    "    text = re.sub(r\"\\\\\", \"\", text)    \n",
    "    text = re.sub(r\"\\'\", \"\", text)    \n",
    "    text = re.sub(r\"\\\"\", \"\", text)\n",
    "    #replace punctuation characters with spaces\n",
    "    filters='!\"\\'#$%&()*+,-./:;<=>?@[\\\\]^_`{|}~\\t\\n'\n",
    "    translate_dict = dict((c, \" \") for c in filters)\n",
    "    translate_map = str.maketrans(translate_dict)\n",
    "    text = text.translate(translate_map)\n",
    "    \n",
    "    tokens = word_tokenize(text)\n",
    "    lemmatizer = WordNetLemmatizer()\n",
    "    stop_words = set(stopwords.words('english')) \n",
    "    clean_tokens = []\n",
    " \n",
    "    \n",
    "    for tok in tokens:\n",
    "        clean_tok = lemmatizer.lemmatize(tok).lower().strip()\n",
    "        clean_tokens.append(clean_tok)\n",
    "        \n",
    "    filtered_tokens = [w for w in clean_tokens if not w in stop_words] \n",
    "        \n",
    "    return filtered_tokens\n",
    "\n",
    "for i in range(10):\n",
    "    print(tokenize(df['message'][i]))\n",
    "    print(df['message'][i])"
   ]
  },
  {
   "cell_type": "code",
   "execution_count": 4,
   "metadata": {
    "scrolled": true
   },
   "outputs": [
    {
     "data": {
      "text/plain": [
       "['thats', 'test']"
      ]
     },
     "execution_count": 4,
     "metadata": {},
     "output_type": "execute_result"
    }
   ],
   "source": [
    "tokenize(\"that's a test\")"
   ]
  },
  {
   "cell_type": "code",
   "execution_count": null,
   "metadata": {},
   "outputs": [],
   "source": []
  },
  {
   "cell_type": "markdown",
   "metadata": {},
   "source": [
    "### 3. Build a machine learning pipeline\n",
    "This machine pipeline should take in the `message` column as input and output classification results on the other 36 categories in the dataset. You may find the [MultiOutputClassifier](http://scikit-learn.org/stable/modules/generated/sklearn.multioutput.MultiOutputClassifier.html) helpful for predicting multiple target variables."
   ]
  },
  {
   "cell_type": "code",
   "execution_count": 5,
   "metadata": {},
   "outputs": [],
   "source": [
    "pipeline = Pipeline([\n",
    "    ('vect', CountVectorizer(tokenizer=tokenize)), \n",
    "    ('tfidf', TfidfTransformer()),\n",
    "    ('clf', MultiOutputClassifier(RandomForestClassifier()))\n",
    "])\n",
    "\n"
   ]
  },
  {
   "cell_type": "code",
   "execution_count": 6,
   "metadata": {},
   "outputs": [
    {
     "name": "stdout",
     "output_type": "stream",
     "text": [
      "Pipeline(steps=[('vect',\n",
      "                 CountVectorizer(tokenizer=<function tokenize at 0x7f8d83c08620>)),\n",
      "                ('tfidf', TfidfTransformer()),\n",
      "                ('clf',\n",
      "                 MultiOutputClassifier(estimator=RandomForestClassifier()))])\n"
     ]
    }
   ],
   "source": [
    "print(pipeline)"
   ]
  },
  {
   "cell_type": "markdown",
   "metadata": {},
   "source": [
    "### 4. Train pipeline\n",
    "- Split data into train and test sets\n",
    "- Train pipeline"
   ]
  },
  {
   "cell_type": "code",
   "execution_count": 21,
   "metadata": {
    "scrolled": true
   },
   "outputs": [],
   "source": [
    "X_train, X_test, Y_train, Y_test = train_test_split(X, Y)\n",
    "parameters = {\n",
    "    'clf__estimator__n_estimators': 10,\n",
    "    'clf__estimator__criterion': 'entropy',\n",
    "    'clf__estimator__max_features': ('auto'),#, 'log2'),\n",
    "    'clf__estimator__min_samples_split': 2,\n",
    "    'vect__ngram_range':  (1, 2),\n",
    "    'tfidf__use_idf': False,\n",
    "    'vect__max_df': 1.\n",
    "}\n",
    "\n",
    "pipeline.set_params(**parameters)\n",
    "\n",
    "pipeline.fit(X_train, Y_train)\n",
    "#Y_pred = pipeline.predict(X_test)\n"
   ]
  },
  {
   "cell_type": "code",
   "execution_count": 22,
   "metadata": {},
   "outputs": [],
   "source": [
    "Y_pred = cv.best_estimator_.predict(X_test)"
   ]
  },
  {
   "cell_type": "markdown",
   "metadata": {},
   "source": [
    "### 5. Test your model\n",
    "Report the f1 score, precision and recall for each output category of the dataset. You can do this by iterating through the columns and calling sklearn's `classification_report` on each."
   ]
  },
  {
   "cell_type": "code",
   "execution_count": 27,
   "metadata": {},
   "outputs": [
    {
     "name": "stdout",
     "output_type": "stream",
     "text": [
      "0.6737967914438503\n"
     ]
    }
   ],
   "source": [
    "print(cv.best_estimator_.score(X_test, Y_test))"
   ]
  },
  {
   "cell_type": "code",
   "execution_count": 28,
   "metadata": {},
   "outputs": [],
   "source": [
    "Y_test_array = Y_test.to_numpy().T"
   ]
  },
  {
   "cell_type": "code",
   "execution_count": null,
   "metadata": {},
   "outputs": [],
   "source": []
  },
  {
   "cell_type": "code",
   "execution_count": 33,
   "metadata": {},
   "outputs": [
    {
     "data": {
      "text/plain": [
       "related                   4993\n",
       "request                   1134\n",
       "offer                       24\n",
       "aid_related               2689\n",
       "medical_help               498\n",
       "medical_products           349\n",
       "search_and_rescue          186\n",
       "security                   111\n",
       "military                   201\n",
       "water                      432\n",
       "food                       772\n",
       "shelter                    583\n",
       "clothing                   111\n",
       "money                      165\n",
       "missing_people              74\n",
       "refugees                   227\n",
       "death                      273\n",
       "other_aid                  863\n",
       "infrastructure_related     449\n",
       "transport                  253\n",
       "buildings                  328\n",
       "electricity                140\n",
       "tools                       36\n",
       "hospitals                   79\n",
       "shops                       30\n",
       "aid_centers                 76\n",
       "other_infrastructure       306\n",
       "weather_related           1795\n",
       "floods                     494\n",
       "storm                      614\n",
       "fire                        73\n",
       "earthquake                 626\n",
       "cold                       130\n",
       "other_weather              356\n",
       "direct_report             1266\n",
       "dtype: int64"
      ]
     },
     "execution_count": 33,
     "metadata": {},
     "output_type": "execute_result"
    }
   ],
   "source": [
    "Y_test.sum()"
   ]
  },
  {
   "cell_type": "code",
   "execution_count": 29,
   "metadata": {
    "scrolled": true
   },
   "outputs": [
    {
     "name": "stdout",
     "output_type": "stream",
     "text": [
      "related\n",
      "              precision    recall  f1-score   support\n",
      "\n",
      "       False       0.92      0.84      0.88      1552\n",
      "        True       0.95      0.98      0.96      4993\n",
      "\n",
      "    accuracy                           0.94      6545\n",
      "   macro avg       0.94      0.91      0.92      6545\n",
      "weighted avg       0.94      0.94      0.94      6545\n",
      "\n",
      "roc auc score 0.9083432011000969\n",
      "[[1302  250]\n",
      " [ 111 4882]]\n",
      "request\n",
      "              precision    recall  f1-score   support\n",
      "\n",
      "       False       0.96      0.99      0.98      5411\n",
      "        True       0.97      0.79      0.87      1134\n",
      "\n",
      "    accuracy                           0.96      6545\n",
      "   macro avg       0.96      0.89      0.92      6545\n",
      "weighted avg       0.96      0.96      0.96      6545\n",
      "\n",
      "roc auc score 0.8933562404886252\n",
      "[[5383   28]\n",
      " [ 236  898]]\n",
      "offer\n",
      "              precision    recall  f1-score   support\n",
      "\n",
      "       False       1.00      1.00      1.00      6521\n",
      "        True       1.00      0.42      0.59        24\n",
      "\n",
      "    accuracy                           1.00      6545\n",
      "   macro avg       1.00      0.71      0.79      6545\n",
      "weighted avg       1.00      1.00      1.00      6545\n",
      "\n",
      "roc auc score 0.7083333333333334\n",
      "[[6521    0]\n",
      " [  14   10]]\n",
      "aid_related\n",
      "              precision    recall  f1-score   support\n",
      "\n",
      "       False       0.92      0.96      0.94      3856\n",
      "        True       0.94      0.87      0.90      2689\n",
      "\n",
      "    accuracy                           0.92      6545\n",
      "   macro avg       0.93      0.92      0.92      6545\n",
      "weighted avg       0.92      0.92      0.92      6545\n",
      "\n",
      "roc auc score 0.9159934279660953\n",
      "[[3700  156]\n",
      " [ 343 2346]]\n",
      "medical_help\n",
      "              precision    recall  f1-score   support\n",
      "\n",
      "       False       0.97      1.00      0.99      6047\n",
      "        True       0.97      0.66      0.79       498\n",
      "\n",
      "    accuracy                           0.97      6545\n",
      "   macro avg       0.97      0.83      0.89      6545\n",
      "weighted avg       0.97      0.97      0.97      6545\n",
      "\n",
      "roc auc score 0.8285730984131665\n",
      "[[6038    9]\n",
      " [ 170  328]]\n",
      "medical_products\n",
      "              precision    recall  f1-score   support\n",
      "\n",
      "       False       0.98      1.00      0.99      6196\n",
      "        True       0.99      0.65      0.79       349\n",
      "\n",
      "    accuracy                           0.98      6545\n",
      "   macro avg       0.99      0.83      0.89      6545\n",
      "weighted avg       0.98      0.98      0.98      6545\n",
      "\n",
      "roc auc score 0.8250535052654361\n",
      "[[6194    2]\n",
      " [ 122  227]]\n",
      "search_and_rescue\n",
      "              precision    recall  f1-score   support\n",
      "\n",
      "       False       0.99      1.00      0.99      6359\n",
      "        True       0.97      0.56      0.71       186\n",
      "\n",
      "    accuracy                           0.99      6545\n",
      "   macro avg       0.98      0.78      0.85      6545\n",
      "weighted avg       0.99      0.99      0.99      6545\n",
      "\n",
      "roc auc score 0.7820221783705086\n",
      "[[6356    3]\n",
      " [  81  105]]\n",
      "security\n",
      "              precision    recall  f1-score   support\n",
      "\n",
      "       False       0.99      1.00      1.00      6434\n",
      "        True       1.00      0.54      0.70       111\n",
      "\n",
      "    accuracy                           0.99      6545\n",
      "   macro avg       1.00      0.77      0.85      6545\n",
      "weighted avg       0.99      0.99      0.99      6545\n",
      "\n",
      "roc auc score 0.7702702702702703\n",
      "[[6434    0]\n",
      " [  51   60]]\n",
      "military\n",
      "              precision    recall  f1-score   support\n",
      "\n",
      "       False       0.99      1.00      1.00      6344\n",
      "        True       0.98      0.73      0.83       201\n",
      "\n",
      "    accuracy                           0.99      6545\n",
      "   macro avg       0.99      0.86      0.91      6545\n",
      "weighted avg       0.99      0.99      0.99      6545\n",
      "\n",
      "roc auc score 0.8629476357180053\n",
      "[[6341    3]\n",
      " [  55  146]]\n",
      "water\n",
      "              precision    recall  f1-score   support\n",
      "\n",
      "       False       0.98      1.00      0.99      6113\n",
      "        True       0.98      0.73      0.84       432\n",
      "\n",
      "    accuracy                           0.98      6545\n",
      "   macro avg       0.98      0.86      0.91      6545\n",
      "weighted avg       0.98      0.98      0.98      6545\n",
      "\n",
      "roc auc score 0.8640925759310758\n",
      "[[6107    6]\n",
      " [ 117  315]]\n",
      "food\n",
      "              precision    recall  f1-score   support\n",
      "\n",
      "       False       0.98      1.00      0.99      5773\n",
      "        True       0.97      0.82      0.89       772\n",
      "\n",
      "    accuracy                           0.98      6545\n",
      "   macro avg       0.97      0.91      0.94      6545\n",
      "weighted avg       0.98      0.98      0.97      6545\n",
      "\n",
      "roc auc score 0.906298886454632\n",
      "[[5753   20]\n",
      " [ 142  630]]\n",
      "shelter\n",
      "              precision    recall  f1-score   support\n",
      "\n",
      "       False       0.98      1.00      0.99      5962\n",
      "        True       0.97      0.78      0.87       583\n",
      "\n",
      "    accuracy                           0.98      6545\n",
      "   macro avg       0.98      0.89      0.93      6545\n",
      "weighted avg       0.98      0.98      0.98      6545\n",
      "\n",
      "roc auc score 0.8908480122537075\n",
      "[[5949   13]\n",
      " [ 126  457]]\n",
      "clothing\n",
      "              precision    recall  f1-score   support\n",
      "\n",
      "       False       1.00      1.00      1.00      6434\n",
      "        True       0.99      0.76      0.86       111\n",
      "\n",
      "    accuracy                           1.00      6545\n",
      "   macro avg       0.99      0.88      0.93      6545\n",
      "weighted avg       1.00      1.00      1.00      6545\n",
      "\n",
      "roc auc score 0.8783006662241976\n",
      "[[6433    1]\n",
      " [  27   84]]\n",
      "money\n",
      "              precision    recall  f1-score   support\n",
      "\n",
      "       False       0.99      1.00      1.00      6380\n",
      "        True       1.00      0.63      0.77       165\n",
      "\n",
      "    accuracy                           0.99      6545\n",
      "   macro avg       1.00      0.82      0.88      6545\n",
      "weighted avg       0.99      0.99      0.99      6545\n",
      "\n",
      "roc auc score 0.8151515151515152\n",
      "[[6380    0]\n",
      " [  61  104]]\n",
      "missing_people\n",
      "              precision    recall  f1-score   support\n",
      "\n",
      "       False       1.00      1.00      1.00      6471\n",
      "        True       1.00      0.58      0.74        74\n",
      "\n",
      "    accuracy                           1.00      6545\n",
      "   macro avg       1.00      0.79      0.87      6545\n",
      "weighted avg       1.00      1.00      0.99      6545\n",
      "\n",
      "roc auc score 0.7905405405405406\n",
      "[[6471    0]\n",
      " [  31   43]]\n",
      "refugees\n",
      "              precision    recall  f1-score   support\n",
      "\n",
      "       False       0.99      1.00      0.99      6318\n",
      "        True       0.99      0.60      0.75       227\n",
      "\n",
      "    accuracy                           0.99      6545\n",
      "   macro avg       0.99      0.80      0.87      6545\n",
      "weighted avg       0.99      0.99      0.98      6545\n",
      "\n",
      "roc auc score 0.799480332397611\n",
      "[[6317    1]\n",
      " [  91  136]]\n",
      "death\n",
      "              precision    recall  f1-score   support\n",
      "\n",
      "       False       0.99      1.00      0.99      6272\n",
      "        True       1.00      0.66      0.80       273\n",
      "\n",
      "    accuracy                           0.99      6545\n",
      "   macro avg       0.99      0.83      0.90      6545\n",
      "weighted avg       0.99      0.99      0.98      6545\n",
      "\n",
      "roc auc score 0.8315018315018314\n",
      "[[6272    0]\n",
      " [  92  181]]\n",
      "other_aid\n",
      "              precision    recall  f1-score   support\n",
      "\n",
      "       False       0.94      1.00      0.97      5682\n",
      "        True       0.97      0.62      0.75       863\n",
      "\n",
      "    accuracy                           0.95      6545\n",
      "   macro avg       0.96      0.81      0.86      6545\n",
      "weighted avg       0.95      0.95      0.94      6545\n",
      "\n",
      "roc auc score 0.8064157798630628\n",
      "[[5668   14]\n",
      " [ 332  531]]\n",
      "infrastructure_related\n",
      "              precision    recall  f1-score   support\n",
      "\n",
      "       False       0.97      1.00      0.99      6096\n",
      "        True       0.99      0.60      0.75       449\n",
      "\n",
      "    accuracy                           0.97      6545\n",
      "   macro avg       0.98      0.80      0.87      6545\n",
      "weighted avg       0.97      0.97      0.97      6545\n",
      "\n",
      "roc auc score 0.8003400674581601\n",
      "[[6092    4]\n",
      " [ 179  270]]\n",
      "transport\n",
      "              precision    recall  f1-score   support\n",
      "\n",
      "       False       0.99      1.00      0.99      6292\n",
      "        True       0.98      0.64      0.78       253\n",
      "\n",
      "    accuracy                           0.99      6545\n",
      "   macro avg       0.98      0.82      0.89      6545\n",
      "weighted avg       0.99      0.99      0.98      6545\n",
      "\n",
      "roc auc score 0.821895989386108\n",
      "[[6289    3]\n",
      " [  90  163]]\n",
      "buildings\n",
      "              precision    recall  f1-score   support\n",
      "\n",
      "       False       0.99      1.00      0.99      6217\n",
      "        True       1.00      0.72      0.83       328\n",
      "\n",
      "    accuracy                           0.99      6545\n",
      "   macro avg       0.99      0.86      0.91      6545\n",
      "weighted avg       0.99      0.99      0.98      6545\n",
      "\n",
      "roc auc score 0.8581512826749628\n",
      "[[6216    1]\n",
      " [  93  235]]\n",
      "electricity\n",
      "              precision    recall  f1-score   support\n",
      "\n",
      "       False       0.99      1.00      1.00      6405\n",
      "        True       1.00      0.64      0.78       140\n",
      "\n",
      "    accuracy                           0.99      6545\n",
      "   macro avg       1.00      0.82      0.89      6545\n",
      "weighted avg       0.99      0.99      0.99      6545\n",
      "\n",
      "roc auc score 0.8214285714285714\n",
      "[[6405    0]\n",
      " [  50   90]]\n",
      "tools\n",
      "              precision    recall  f1-score   support\n",
      "\n",
      "       False       1.00      1.00      1.00      6509\n",
      "        True       1.00      0.58      0.74        36\n",
      "\n",
      "    accuracy                           1.00      6545\n",
      "   macro avg       1.00      0.79      0.87      6545\n",
      "weighted avg       1.00      1.00      1.00      6545\n",
      "\n",
      "roc auc score 0.7916666666666667\n",
      "[[6509    0]\n",
      " [  15   21]]\n",
      "hospitals\n",
      "              precision    recall  f1-score   support\n",
      "\n",
      "       False       0.99      1.00      1.00      6466\n",
      "        True       1.00      0.56      0.72        79\n",
      "\n",
      "    accuracy                           0.99      6545\n",
      "   macro avg       1.00      0.78      0.86      6545\n",
      "weighted avg       0.99      0.99      0.99      6545\n",
      "\n",
      "roc auc score 0.7784810126582278\n",
      "[[6466    0]\n",
      " [  35   44]]\n",
      "shops\n",
      "              precision    recall  f1-score   support\n",
      "\n",
      "       False       1.00      1.00      1.00      6515\n",
      "        True       1.00      0.53      0.70        30\n",
      "\n",
      "    accuracy                           1.00      6545\n",
      "   macro avg       1.00      0.77      0.85      6545\n",
      "weighted avg       1.00      1.00      1.00      6545\n",
      "\n",
      "roc auc score 0.7666666666666666\n",
      "[[6515    0]\n",
      " [  14   16]]\n",
      "aid_centers\n",
      "              precision    recall  f1-score   support\n",
      "\n",
      "       False       0.99      1.00      1.00      6469\n",
      "        True       1.00      0.50      0.67        76\n",
      "\n",
      "    accuracy                           0.99      6545\n",
      "   macro avg       1.00      0.75      0.83      6545\n",
      "weighted avg       0.99      0.99      0.99      6545\n",
      "\n",
      "roc auc score 0.75\n",
      "[[6469    0]\n",
      " [  38   38]]\n",
      "other_infrastructure\n",
      "              precision    recall  f1-score   support\n",
      "\n",
      "       False       0.98      1.00      0.99      6239\n",
      "        True       0.98      0.57      0.72       306\n",
      "\n",
      "    accuracy                           0.98      6545\n",
      "   macro avg       0.98      0.79      0.86      6545\n",
      "weighted avg       0.98      0.98      0.98      6545\n",
      "\n",
      "roc auc score 0.785707289273566\n",
      "[[6236    3]\n",
      " [ 131  175]]\n",
      "weather_related\n",
      "              precision    recall  f1-score   support\n",
      "\n",
      "       False       0.95      0.99      0.97      4750\n",
      "        True       0.97      0.86      0.91      1795\n",
      "\n",
      "    accuracy                           0.95      6545\n",
      "   macro avg       0.96      0.93      0.94      6545\n",
      "weighted avg       0.96      0.95      0.95      6545\n",
      "\n",
      "roc auc score 0.9250001466060694\n",
      "[[4707   43]\n",
      " [ 253 1542]]\n",
      "floods\n",
      "              precision    recall  f1-score   support\n",
      "\n",
      "       False       0.98      1.00      0.99      6051\n",
      "        True       1.00      0.74      0.85       494\n",
      "\n",
      "    accuracy                           0.98      6545\n",
      "   macro avg       0.99      0.87      0.92      6545\n",
      "weighted avg       0.98      0.98      0.98      6545\n",
      "\n",
      "roc auc score 0.8703627131594671\n",
      "[[6050    1]\n",
      " [ 128  366]]\n",
      "storm\n",
      "              precision    recall  f1-score   support\n",
      "\n",
      "       False       0.98      1.00      0.99      5931\n",
      "        True       0.97      0.77      0.86       614\n",
      "\n",
      "    accuracy                           0.98      6545\n",
      "   macro avg       0.97      0.88      0.92      6545\n",
      "weighted avg       0.98      0.98      0.98      6545\n",
      "\n",
      "roc auc score 0.8847289431063088\n",
      "[[5916   15]\n",
      " [ 140  474]]\n",
      "fire\n",
      "              precision    recall  f1-score   support\n",
      "\n",
      "       False       1.00      1.00      1.00      6472\n",
      "        True       1.00      0.58      0.73        73\n",
      "\n",
      "    accuracy                           1.00      6545\n",
      "   macro avg       1.00      0.79      0.86      6545\n",
      "weighted avg       1.00      1.00      0.99      6545\n",
      "\n",
      "roc auc score 0.7876712328767124\n",
      "[[6472    0]\n",
      " [  31   42]]\n",
      "earthquake\n",
      "              precision    recall  f1-score   support\n",
      "\n",
      "       False       0.99      1.00      0.99      5919\n",
      "        True       0.98      0.89      0.93       626\n",
      "\n",
      "    accuracy                           0.99      6545\n",
      "   macro avg       0.99      0.94      0.96      6545\n",
      "weighted avg       0.99      0.99      0.99      6545\n",
      "\n",
      "roc auc score 0.9440434416270342\n",
      "[[5909   10]\n",
      " [  69  557]]\n",
      "cold\n",
      "              precision    recall  f1-score   support\n",
      "\n",
      "       False       0.99      1.00      1.00      6415\n",
      "        True       0.96      0.63      0.76       130\n",
      "\n",
      "    accuracy                           0.99      6545\n",
      "   macro avg       0.98      0.82      0.88      6545\n",
      "weighted avg       0.99      0.99      0.99      6545\n",
      "\n",
      "roc auc score 0.8151507884165717\n",
      "[[6412    3]\n",
      " [  48   82]]\n",
      "other_weather\n",
      "              precision    recall  f1-score   support\n",
      "\n",
      "       False       0.98      1.00      0.99      6189\n",
      "        True       0.99      0.60      0.74       356\n",
      "\n",
      "    accuracy                           0.98      6545\n",
      "   macro avg       0.98      0.80      0.87      6545\n",
      "weighted avg       0.98      0.98      0.97      6545\n",
      "\n",
      "roc auc score 0.7975104435016094\n",
      "[[6186    3]\n",
      " [ 144  212]]\n",
      "direct_report\n",
      "              precision    recall  f1-score   support\n",
      "\n",
      "       False       0.95      0.99      0.97      5279\n",
      "        True       0.96      0.76      0.85      1266\n",
      "\n",
      "    accuracy                           0.95      6545\n",
      "   macro avg       0.96      0.88      0.91      6545\n",
      "weighted avg       0.95      0.95      0.95      6545\n",
      "\n"
     ]
    },
    {
     "name": "stdout",
     "output_type": "stream",
     "text": [
      "roc auc score 0.8788967404006516\n",
      "[[5243   36]\n",
      " [ 298  968]]\n"
     ]
    }
   ],
   "source": [
    "roc_score = []\n",
    "for column in range(35):\n",
    "    print(Y.columns[column])\n",
    "    print(classification_report(Y_test_array[column], Y_pred.T[column]))\n",
    "    roc = roc_auc_score(Y_test_array[column], Y_pred.T[column])\n",
    "    print('roc auc score', roc)\n",
    "    roc_score.append(roc)\n",
    "    print(confusion_matrix(Y_test_array[column], Y_pred.T[column]))"
   ]
  },
  {
   "cell_type": "code",
   "execution_count": 30,
   "metadata": {},
   "outputs": [
    {
     "name": "stdout",
     "output_type": "stream",
     "text": [
      "average roc 0.8330064293471733\n"
     ]
    }
   ],
   "source": [
    "print('average roc', np.mean(roc_score)) #0.83"
   ]
  },
  {
   "cell_type": "markdown",
   "metadata": {},
   "source": [
    "### 6. Improve your model\n",
    "Use grid search to find better parameters. "
   ]
  },
  {
   "cell_type": "code",
   "execution_count": 14,
   "metadata": {
    "scrolled": true
   },
   "outputs": [
    {
     "name": "stdout",
     "output_type": "stream",
     "text": [
      "{'clf': MultiOutputClassifier(estimator=RandomForestClassifier(criterion='entropy',\n",
      "                                                       n_estimators=10)),\n",
      " 'clf__estimator': RandomForestClassifier(criterion='entropy', n_estimators=10),\n",
      " 'clf__estimator__bootstrap': True,\n",
      " 'clf__estimator__ccp_alpha': 0.0,\n",
      " 'clf__estimator__class_weight': None,\n",
      " 'clf__estimator__criterion': 'entropy',\n",
      " 'clf__estimator__max_depth': None,\n",
      " 'clf__estimator__max_features': 'auto',\n",
      " 'clf__estimator__max_leaf_nodes': None,\n",
      " 'clf__estimator__max_samples': None,\n",
      " 'clf__estimator__min_impurity_decrease': 0.0,\n",
      " 'clf__estimator__min_impurity_split': None,\n",
      " 'clf__estimator__min_samples_leaf': 1,\n",
      " 'clf__estimator__min_samples_split': 2,\n",
      " 'clf__estimator__min_weight_fraction_leaf': 0.0,\n",
      " 'clf__estimator__n_estimators': 10,\n",
      " 'clf__estimator__n_jobs': None,\n",
      " 'clf__estimator__oob_score': False,\n",
      " 'clf__estimator__random_state': None,\n",
      " 'clf__estimator__verbose': 0,\n",
      " 'clf__estimator__warm_start': False,\n",
      " 'clf__n_jobs': None,\n",
      " 'memory': None,\n",
      " 'steps': [('vect',\n",
      "            CountVectorizer(ngram_range=(1, 2),\n",
      "                tokenizer=<function tokenize at 0x7f8d83c08620>)),\n",
      "           ('tfidf', TfidfTransformer(use_idf=False)),\n",
      "           ('clf',\n",
      "            MultiOutputClassifier(estimator=RandomForestClassifier(criterion='entropy',\n",
      "                                                       n_estimators=10)))],\n",
      " 'tfidf': TfidfTransformer(use_idf=False),\n",
      " 'tfidf__norm': 'l2',\n",
      " 'tfidf__smooth_idf': True,\n",
      " 'tfidf__sublinear_tf': False,\n",
      " 'tfidf__use_idf': False,\n",
      " 'vect': CountVectorizer(ngram_range=(1, 2),\n",
      "                tokenizer=<function tokenize at 0x7f8d83c08620>),\n",
      " 'vect__analyzer': 'word',\n",
      " 'vect__binary': False,\n",
      " 'vect__decode_error': 'strict',\n",
      " 'vect__dtype': <class 'numpy.int64'>,\n",
      " 'vect__encoding': 'utf-8',\n",
      " 'vect__input': 'content',\n",
      " 'vect__lowercase': True,\n",
      " 'vect__max_df': 1.0,\n",
      " 'vect__max_features': None,\n",
      " 'vect__min_df': 1,\n",
      " 'vect__ngram_range': (1, 2),\n",
      " 'vect__preprocessor': None,\n",
      " 'vect__stop_words': None,\n",
      " 'vect__strip_accents': None,\n",
      " 'vect__token_pattern': '(?u)\\\\b\\\\w\\\\w+\\\\b',\n",
      " 'vect__tokenizer': <function tokenize at 0x7f8d83c08620>,\n",
      " 'vect__vocabulary': None,\n",
      " 'verbose': False}\n"
     ]
    }
   ],
   "source": [
    "from pprint import pprint\n",
    "pprint(pipeline.get_params())"
   ]
  },
  {
   "cell_type": "code",
   "execution_count": 19,
   "metadata": {},
   "outputs": [
    {
     "name": "stdout",
     "output_type": "stream",
     "text": [
      "Fitting 5 folds for each of 48 candidates, totalling 240 fits\n"
     ]
    },
    {
     "name": "stderr",
     "output_type": "stream",
     "text": [
      "/home/jens/anaconda3/lib/python3.7/site-packages/sklearn/model_selection/_search.py:921: UserWarning: One or more of the test scores are non-finite: [nan nan nan nan nan nan nan nan nan nan nan nan nan nan nan nan nan nan\n",
      " nan nan nan nan nan nan nan nan nan nan nan nan nan nan nan nan nan nan\n",
      " nan nan nan nan nan nan nan nan nan nan nan nan]\n",
      "  category=UserWarning\n"
     ]
    }
   ],
   "source": [
    "parameters = {\n",
    "    'clf__estimator__n_estimators': [10],\n",
    "    'clf__estimator__criterion': ('gini', 'entropy'),\n",
    "    'clf__estimator__max_features': ('auto', 'sqrt'),#, 'log2'),\n",
    "    'clf__estimator__min_samples_split': (2, 3),#,\n",
    "    'vect__ngram_range': ((1, 1), (1, 2), (2,2)),\n",
    "    'tfidf__use_idf': (True, False),\n",
    "    #'vect__max_df': (0.1, 0.5, 1.0)\n",
    "}\n",
    "\n",
    "cv = GridSearchCV(pipeline, param_grid=parameters, n_jobs=6, scoring='roc_auc_ovo', verbose=10)\n",
    "grid_fit = cv.fit(X_train, Y_train)"
   ]
  },
  {
   "cell_type": "markdown",
   "metadata": {},
   "source": [
    "### 7. Test your model\n",
    "Show the accuracy, precision, and recall of the tuned model.  \n",
    "\n",
    "Since this project focuses on code quality, process, and  pipelines, there is no minimum performance metric needed to pass. However, make sure to fine tune your models for accuracy, precision and recall to make your project stand out - especially for your portfolio!"
   ]
  },
  {
   "cell_type": "code",
   "execution_count": 20,
   "metadata": {},
   "outputs": [
    {
     "data": {
      "text/plain": [
       "{'clf__estimator__criterion': 'gini',\n",
       " 'clf__estimator__max_features': 'auto',\n",
       " 'clf__estimator__min_samples_split': 2,\n",
       " 'clf__estimator__n_estimators': 10,\n",
       " 'tfidf__use_idf': True,\n",
       " 'vect__ngram_range': (1, 1)}"
      ]
     },
     "execution_count": 20,
     "metadata": {},
     "output_type": "execute_result"
    }
   ],
   "source": [
    "grid_fit.best_params_"
   ]
  },
  {
   "cell_type": "markdown",
   "metadata": {},
   "source": [
    "### 8. Try improving your model further. Here are a few ideas:\n",
    "* try other machine learning algorithms\n",
    "* add other features besides the TF-IDF"
   ]
  },
  {
   "cell_type": "code",
   "execution_count": null,
   "metadata": {},
   "outputs": [],
   "source": []
  },
  {
   "cell_type": "markdown",
   "metadata": {},
   "source": [
    "### 9. Export your model as a pickle file"
   ]
  },
  {
   "cell_type": "code",
   "execution_count": null,
   "metadata": {},
   "outputs": [],
   "source": [
    "import pickle\n",
    "outfile = open(MLmodel.pkl, 'wb')\n",
    "pickle.dump(cv.best_estimator_, outfile, compress=1)"
   ]
  },
  {
   "cell_type": "markdown",
   "metadata": {},
   "source": [
    "### 10. Use this notebook to complete `train.py`\n",
    "Use the template file attached in the Resources folder to write a script that runs the steps above to create a database and export a model based on a new dataset specified by the user."
   ]
  },
  {
   "cell_type": "code",
   "execution_count": null,
   "metadata": {},
   "outputs": [],
   "source": []
  }
 ],
 "metadata": {
  "kernelspec": {
   "display_name": "Python 3",
   "language": "python",
   "name": "python3"
  },
  "language_info": {
   "codemirror_mode": {
    "name": "ipython",
    "version": 3
   },
   "file_extension": ".py",
   "mimetype": "text/x-python",
   "name": "python",
   "nbconvert_exporter": "python",
   "pygments_lexer": "ipython3",
   "version": "3.7.3"
  }
 },
 "nbformat": 4,
 "nbformat_minor": 2
}
